{
  "nbformat": 4,
  "nbformat_minor": 0,
  "metadata": {
    "colab": {
      "provenance": [],
      "authorship_tag": "ABX9TyOzVqKvMHBQSDf2gNevQxJP",
      "include_colab_link": true
    },
    "kernelspec": {
      "name": "python3",
      "display_name": "Python 3"
    },
    "language_info": {
      "name": "python"
    }
  },
  "cells": [
    {
      "cell_type": "markdown",
      "metadata": {
        "id": "view-in-github",
        "colab_type": "text"
      },
      "source": [
        "<a href=\"https://colab.research.google.com/github/janpeter19/BPL_CHO_Fedbatch/blob/main/BPL_CHO_Fedbatch_colab_me.ipynb\" target=\"_parent\"><img src=\"https://colab.research.google.com/assets/colab-badge.svg\" alt=\"Open In Colab\"/></a>"
      ]
    },
    {
      "cell_type": "markdown",
      "source": [
        "# BPL_CHO_Fedbatch script with PyFMI ver 2.9.8\n",
        "\n",
        "The key library PyFMI v2.9.8 is installed.\n",
        "\n",
        "After the installation a small application BPL_CHO_Fedbatch is loaded and run. You can continue with this example if you like."
      ],
      "metadata": {
        "id": "UFcMzs4Y3HwH"
      }
    },
    {
      "cell_type": "code",
      "execution_count": null,
      "metadata": {
        "id": "ID68dwep2zus"
      },
      "outputs": [],
      "source": [
        "!lsb_release -a # Actual VM Ubuntu version used by Google"
      ]
    },
    {
      "cell_type": "code",
      "source": [
        "%env PYTHONPATH="
      ],
      "metadata": {
        "id": "pVDcSg-j3SSV"
      },
      "execution_count": null,
      "outputs": []
    },
    {
      "cell_type": "code",
      "source": [
        "!wget https://repo.anaconda.com/miniconda/Miniconda3-py38_22.11.1-1-Linux-x86_64.sh \n",
        "!chmod +x Miniconda3-py38_22.11.1-1-Linux-x86_64.sh\n",
        "!bash ./Miniconda3-py38_22.11.1-1-Linux-x86_64.sh -b -f -p /usr/local \n",
        "import sys \n",
        "sys.path.append('/usr/local/lib/python3.8/site-packages/')"
      ],
      "metadata": {
        "id": "04VeBmLU3UFx"
      },
      "execution_count": null,
      "outputs": []
    },
    {
      "cell_type": "code",
      "source": [
        "!conda update -n base -c defaults conda --yes"
      ],
      "metadata": {
        "id": "5iuP4_vl3WFA"
      },
      "execution_count": null,
      "outputs": []
    },
    {
      "cell_type": "code",
      "source": [
        "!conda --version\n",
        "!python --version"
      ],
      "metadata": {
        "id": "uoBMBSS63Z58"
      },
      "execution_count": null,
      "outputs": []
    },
    {
      "cell_type": "code",
      "source": [
        "!conda install -c conda-forge pyfmi --yes # Install the key package"
      ],
      "metadata": {
        "id": "RMuJRdfH3dDq"
      },
      "execution_count": null,
      "outputs": []
    },
    {
      "cell_type": "markdown",
      "source": [
        "# BPL_CHO_Fedbatch setup\n"
      ],
      "metadata": {
        "id": "UTETJm3l6heL"
      }
    },
    {
      "cell_type": "markdown",
      "source": [
        "Now specific installation and the run simulations. Start with connecting to Github. Then upload the two files:\n",
        "\n",
        "* FMU - BPL_CHO_Fedbatch_linux_om_me.fmu\n",
        "* Setup-file - BPL_CHO_Fedbatch_explore"
      ],
      "metadata": {
        "id": "mxILgQ103nZ6"
      }
    },
    {
      "cell_type": "code",
      "source": [
        "%%bash \n",
        "git clone https://github.com/janpeter19/BPL_CHO_Fedbatch"
      ],
      "metadata": {
        "id": "RfWPh1B63yBF"
      },
      "execution_count": null,
      "outputs": []
    },
    {
      "cell_type": "code",
      "source": [
        "%cd BPL_CHO_Fedbatch"
      ],
      "metadata": {
        "id": "i6uOVB44300a"
      },
      "execution_count": null,
      "outputs": []
    },
    {
      "cell_type": "markdown",
      "source": [
        "# BPL_CHO_Fedbatch - demo\n",
        "\n",
        "This notebook deals with CHO fedbatch cultivation and recombinant protein production is included. First we make a check of the model by comparing a simulation result with corresponding published diagram. Then we take a closer look at the start-up strategy to keep the by-product formation low. After that we investigate at a whole cultivation and see the impact of feeding strategy on both cell growth and protein production where a trade-off is needed in this case. \n",
        "\n",
        "The model used takes its inspiration from the microbial bottleneck models as described in the original papers [1] and [2] and reformulated and studied in [3]. The laboratory cultures used for model validation in [1] did produce MAb (against part of IgG) but no MAb-data was presented. The paper focus on viable and non-viable cell concentrations only. The original model is in section 5 expanded with the classical empirical Luedeking-Piret model recombinant protein production, see chapter 5 in [4]. In this way can get more insight into choice of feeding profile. \n",
        "\n",
        "Interaction with the compiled model as FMU is mainly through the simplified commands: par(), init(), newplot(), simu() etc. The last simulation is always available in the workspace and called 'sim_res'. The command describe() brings mainly up description infomration from the actual Modelica code from the FMU but is complemented with information given in the dedicated Python setup-file.\n",
        "\n",
        "The idea here is to demonstrate how simulations and varyiing conditions can provide some process insight that can support the experimental work. I hope that at the end of this session you are ready to formulate your own questions you want to address with simulations - and you can just go on in this notebook! Just press the field \"+Code\" in the upper left part of notebook interface and you get a new \"cell\" where you write your own code. You can copy and paste from cells above using ctrl-c and ctrl-v as usual and edit the cell. When your are ready to execute the cell just press the \"play button\" to the left in the cell or press shift-enter as in \"ordinary\" Jupyter notebooks.\n",
        "\n",
        "After a session you may want to save your own notebook. That you can do on your Google Drive account and I refer to Colab instructions for how to do this. It is easy.\n",
        "\n",
        "Good luck!"
      ],
      "metadata": {
        "id": "dsjD0XLpQysI"
      }
    },
    {
      "cell_type": "code",
      "source": [
        "run -i BPL_CHO_Fedbatch_explore_me.py"
      ],
      "metadata": {
        "colab": {
          "base_uri": "https://localhost:8080/",
          "height": 381
        },
        "id": "b-y82jZY33cO",
        "outputId": "b321e517-d589-4f35-bcd6-5b96e984795e"
      },
      "execution_count": 10,
      "outputs": [
        {
          "output_type": "error",
          "ename": "KeyboardInterrupt",
          "evalue": "ignored",
          "traceback": [
            "\u001b[0;31m---------------------------------------------------------------------------\u001b[0m",
            "\u001b[0;31mKeyboardInterrupt\u001b[0m                         Traceback (most recent call last)",
            "\u001b[0;32m/content/BPL_CHO_Fedbatch/BPL_CHO_Fedbatch_explore_me.py\u001b[0m in \u001b[0;36m<module>\u001b[0;34m\u001b[0m\n\u001b[1;32m     74\u001b[0m    \u001b[0mopts\u001b[0m\u001b[0;34m[\u001b[0m\u001b[0;34m'silent_mode'\u001b[0m\u001b[0;34m]\u001b[0m \u001b[0;34m=\u001b[0m \u001b[0;32mTrue\u001b[0m\u001b[0;34m\u001b[0m\u001b[0;34m\u001b[0m\u001b[0m\n\u001b[1;32m     75\u001b[0m \u001b[0;32melif\u001b[0m \u001b[0mplatform\u001b[0m\u001b[0;34m.\u001b[0m\u001b[0msystem\u001b[0m\u001b[0;34m(\u001b[0m\u001b[0;34m)\u001b[0m \u001b[0;34m==\u001b[0m \u001b[0;34m'Linux'\u001b[0m\u001b[0;34m:\u001b[0m\u001b[0;34m\u001b[0m\u001b[0;34m\u001b[0m\u001b[0m\n\u001b[0;32m---> 76\u001b[0;31m    \u001b[0mflag_vendor\u001b[0m \u001b[0;34m=\u001b[0m \u001b[0minput\u001b[0m\u001b[0;34m(\u001b[0m\u001b[0;34m'Linux - run FMU from JModelica (JM) or OpenModelica (OM)?'\u001b[0m\u001b[0;34m)\u001b[0m\u001b[0;34m\u001b[0m\u001b[0;34m\u001b[0m\u001b[0m\n\u001b[0m\u001b[1;32m     77\u001b[0m    \u001b[0mflag_type\u001b[0m \u001b[0;34m=\u001b[0m \u001b[0minput\u001b[0m\u001b[0;34m(\u001b[0m\u001b[0;34m'Linux - run FMU-CS (CS) or ME (ME)?'\u001b[0m\u001b[0;34m)\u001b[0m\u001b[0;34m\u001b[0m\u001b[0;34m\u001b[0m\u001b[0m\n\u001b[1;32m     78\u001b[0m    \u001b[0mprint\u001b[0m\u001b[0;34m(\u001b[0m\u001b[0;34m)\u001b[0m\u001b[0;34m\u001b[0m\u001b[0;34m\u001b[0m\u001b[0m\n",
            "\u001b[0;32m/usr/local/lib/python3.8/dist-packages/ipykernel/kernelbase.py\u001b[0m in \u001b[0;36mraw_input\u001b[0;34m(self, prompt)\u001b[0m\n\u001b[1;32m    858\u001b[0m                 \u001b[0;34m\"raw_input was called, but this frontend does not support input requests.\"\u001b[0m\u001b[0;34m\u001b[0m\u001b[0;34m\u001b[0m\u001b[0m\n\u001b[1;32m    859\u001b[0m             )\n\u001b[0;32m--> 860\u001b[0;31m         return self._input_request(str(prompt),\n\u001b[0m\u001b[1;32m    861\u001b[0m             \u001b[0mself\u001b[0m\u001b[0;34m.\u001b[0m\u001b[0m_parent_ident\u001b[0m\u001b[0;34m,\u001b[0m\u001b[0;34m\u001b[0m\u001b[0;34m\u001b[0m\u001b[0m\n\u001b[1;32m    862\u001b[0m             \u001b[0mself\u001b[0m\u001b[0;34m.\u001b[0m\u001b[0m_parent_header\u001b[0m\u001b[0;34m,\u001b[0m\u001b[0;34m\u001b[0m\u001b[0;34m\u001b[0m\u001b[0m\n",
            "\u001b[0;32m/usr/local/lib/python3.8/dist-packages/ipykernel/kernelbase.py\u001b[0m in \u001b[0;36m_input_request\u001b[0;34m(self, prompt, ident, parent, password)\u001b[0m\n\u001b[1;32m    902\u001b[0m             \u001b[0;32mexcept\u001b[0m \u001b[0mKeyboardInterrupt\u001b[0m\u001b[0;34m:\u001b[0m\u001b[0;34m\u001b[0m\u001b[0;34m\u001b[0m\u001b[0m\n\u001b[1;32m    903\u001b[0m                 \u001b[0;31m# re-raise KeyboardInterrupt, to truncate traceback\u001b[0m\u001b[0;34m\u001b[0m\u001b[0;34m\u001b[0m\u001b[0;34m\u001b[0m\u001b[0m\n\u001b[0;32m--> 904\u001b[0;31m                 \u001b[0;32mraise\u001b[0m \u001b[0mKeyboardInterrupt\u001b[0m\u001b[0;34m(\u001b[0m\u001b[0;34m\"Interrupted by user\"\u001b[0m\u001b[0;34m)\u001b[0m \u001b[0;32mfrom\u001b[0m \u001b[0;32mNone\u001b[0m\u001b[0;34m\u001b[0m\u001b[0;34m\u001b[0m\u001b[0m\n\u001b[0m\u001b[1;32m    905\u001b[0m             \u001b[0;32mexcept\u001b[0m \u001b[0mException\u001b[0m \u001b[0;32mas\u001b[0m \u001b[0me\u001b[0m\u001b[0;34m:\u001b[0m\u001b[0;34m\u001b[0m\u001b[0;34m\u001b[0m\u001b[0m\n\u001b[1;32m    906\u001b[0m                 \u001b[0mself\u001b[0m\u001b[0;34m.\u001b[0m\u001b[0mlog\u001b[0m\u001b[0;34m.\u001b[0m\u001b[0mwarning\u001b[0m\u001b[0;34m(\u001b[0m\u001b[0;34m\"Invalid Message:\"\u001b[0m\u001b[0;34m,\u001b[0m \u001b[0mexc_info\u001b[0m\u001b[0;34m=\u001b[0m\u001b[0;32mTrue\u001b[0m\u001b[0;34m)\u001b[0m\u001b[0;34m\u001b[0m\u001b[0;34m\u001b[0m\u001b[0m\n",
            "\u001b[0;31mKeyboardInterrupt\u001b[0m: Interrupted by user"
          ]
        }
      ]
    },
    {
      "cell_type": "code",
      "source": [
        "%matplotlib inline\n",
        "plt.rcParams['figure.figsize'] = [25/2.54, 20/2.54]"
      ],
      "metadata": {
        "id": "HUFhuE-H4RCw"
      },
      "execution_count": 11,
      "outputs": []
    },
    {
      "cell_type": "markdown",
      "source": [
        "## 1 About the process model\n",
        "\n",
        "We can get information about the process and liquid phase by the command describe(). Here is no gas-phase included. This command can also be used to bring up information about a specific variable or parameter. However, you should use describe() after a simulation to get the valued used during the simulation."
      ],
      "metadata": {
        "id": "dx9oMnP0RJkM"
      }
    },
    {
      "cell_type": "code",
      "source": [
        "describe('culture'); print(); #describe('liquidphase')                                  # Pump schedule parameter \n"
      ],
      "metadata": {
        "id": "-Y3NHWIj4TZ6",
        "colab": {
          "base_uri": "https://localhost:8080/",
          "height": 166
        },
        "outputId": "da3dab21-9195-4cdd-ed3d-65ea4b034329"
      },
      "execution_count": 12,
      "outputs": [
        {
          "output_type": "error",
          "ename": "NameError",
          "evalue": "ignored",
          "traceback": [
            "\u001b[0;31m---------------------------------------------------------------------------\u001b[0m",
            "\u001b[0;31mNameError\u001b[0m                                 Traceback (most recent call last)",
            "\u001b[0;32m/content/BPL_CHO_Fedbatch/BPL_CHO_Fedbatch_explore_me.py\u001b[0m in \u001b[0;36m<module>\u001b[0;34m\u001b[0m\n\u001b[0;32m----> 1\u001b[0;31m \u001b[0mdescribe\u001b[0m\u001b[0;34m(\u001b[0m\u001b[0;34m'culture'\u001b[0m\u001b[0;34m)\u001b[0m\u001b[0;34m;\u001b[0m \u001b[0mprint\u001b[0m\u001b[0;34m(\u001b[0m\u001b[0;34m)\u001b[0m\u001b[0;34m;\u001b[0m \u001b[0mdescribe\u001b[0m\u001b[0;34m(\u001b[0m\u001b[0;34m'liquidphase'\u001b[0m\u001b[0;34m)\u001b[0m                                  \u001b[0;31m# Pump schedule parameter\u001b[0m\u001b[0;34m\u001b[0m\u001b[0;34m\u001b[0m\u001b[0m\n\u001b[0m",
            "\u001b[0;31mNameError\u001b[0m: name 'describe' is not defined"
          ]
        }
      ]
    },
    {
      "cell_type": "markdown",
      "source": [
        "The molecular weight of the recombinant protein (MAb) is somewhat arbitrarly chosen and the value not used in the simulations."
      ],
      "metadata": {
        "id": "Ywb8yKJ-I3PJ"
      }
    },
    {
      "cell_type": "markdown",
      "source": [
        "## 2 Simulation reproducing the original paper\n",
        "\n",
        "The simulation below reproduce diagrams in Figure 5 in the original paper. There are several simulation in the paper showing how well the model describe different experiments and here I just choose one of them."
      ],
      "metadata": {
        "id": "e0HywTQuRTuK"
      }
    },
    {
      "cell_type": "code",
      "source": [
        "# Data from Table 1 and 2 for experiment 4 shown in Figure 5 in paper [1]\n",
        "# -culture parameters taken from Table 5 identified parameters for cultures 1,2,and 3\n",
        "\n",
        "# Initial process conditions\n",
        "V_0=0.30\n",
        "init(V_0=V_0, VXv_0=V_0*0.172, VXd_0=V_0*0.020) \n",
        "init(VG_0=V_0*17.83, VGn_0=V_0*3.74, VL_0=V_0*0.12, VN_0=V_0*0.24)\n",
        "\n",
        "# Feeding\n",
        "Feed=0.1/24\n",
        "par(G_in=15, Gn_in=9.3)\n",
        "par(t0=0, F0=0, t1=63.5, F1=Feed, t2=300, F2=Feed)\n",
        "\n",
        "# Simulation\n",
        "newplot(title='Figure 5 - Fedbatch cultivation') \n",
        "simu(200)"
      ],
      "metadata": {
        "id": "3BkbO1cprB44"
      },
      "execution_count": null,
      "outputs": []
    },
    {
      "cell_type": "markdown",
      "source": [
        "**Comment:** The simulation results looks very similar to the published diagram Figure 5 in [1]. The model pass this quality check."
      ],
      "metadata": {
        "id": "rWDmNFwbJWEn"
      }
    },
    {
      "cell_type": "markdown",
      "source": [
        "## 3 Simulation of different start-up feeding strategies"
      ],
      "metadata": {
        "id": "s9Ico4G1Je3Q"
      }
    },
    {
      "cell_type": "code",
      "source": [
        "# Figur 5\n",
        "V_0=0.30\n",
        "init(V_0=V_0, VXv_0=V_0*0.172, VXd_0=V_0*0.020) \n",
        "init(VG_0=V_0*17.83, VGn_0=V_0*3.74, VL_0=V_0*0.12, VN_0=V_0*0.24)\n",
        "\n",
        "# Feeding\n",
        "Feed=0.1/24\n",
        "par(G_in=15, Gn_in=9.3)\n",
        "par(t0=0, F0=0, t1=63.5, F1=Feed, t2=300, F2=Feed)\n",
        "\n",
        "newplot(title='Figure 5 - Fedbatch cultivation') \n",
        "simu(120)\n",
        "\n",
        "init(VG_0=0.35*V_0*17.83, VGn_0=0.35*V_0*3.74)\n",
        "par(t0=0, F0=0, t1=40.0, F1=0.5*Feed, t2=63.5, F2=Feed,t3=300, F3=Feed)\n",
        "simu(120)\n",
        "\n",
        "init(VG_0=0.35*V_0*17.83, VGn_0=0.35*V_0*3.74)\n",
        "par(t0=0, F0=0, t1=40.0, F1=0.5*Feed, t2=63.5, F2=0.7*Feed, t3=88.0, F3=Feed, t4=300, F4=Feed)\n",
        "simu(120)\n",
        "\n",
        "# Reset time table to avoid problems below\n",
        "par(t1=1001, t2=1002, t3=1003, t4=1004, t5=1005, t6=1006)"
      ],
      "metadata": {
        "id": "btfm5EDZJohy"
      },
      "execution_count": null,
      "outputs": []
    },
    {
      "cell_type": "markdown",
      "source": [
        "**Comment:** We see that starting the feed a day erlier at lower rate and then increase decreaes lactate formation to half, while the cell conentation is just slightlly lower. With a more careful design of the feedprofile the ammonia formation can be decreased more than shown here."
      ],
      "metadata": {
        "id": "FfIxEErSJuDI"
      }
    },
    {
      "cell_type": "markdown",
      "source": [
        "## 4 Simulation of optimal feed profile for cell growth\n",
        "\n",
        "At the end of the original paper section 5 in [1], the derived model is used to find an optimal feeding profile for high final cell concentration. It is stated that protein productivity is assumed to be mainly positively growth associated and therefore optimization of cell concentration is very similar to optimization of protein product. The optimization of feed profile is done with differnt structures of the feed profile. All of them have a start-time and all of them has a fixed amount of substrate and concentrations in the media are also the same. \n",
        "\n",
        "* The first optimzation is for a feed profile similar to the experimental, i.e. after start the feed rate remains constant throughout the cultivation. Thus the start time and the actual feed rate are optimized. The result was that the start time was about the same as expermentally but the feed rate was 50% higher, see Figure 7 and Figure 10 in [1]. \n",
        "\n",
        "* The second optimization is for a feed profile with not just one increase but three steps of increase of feed rate. The results is a somwehat higher final cell concentration, see Figure 11.\n",
        "\n",
        "* The third optimization is for a feed profile with five steps of increase of feed rate. The results is a slightly higher final cell concentration than for three steps, see Figure 12.\n",
        "\n",
        "* The fourth optimization is for a feed profie with continuous exponential increase of the reed rate. The result is a bit higher final concentration than the previous with five steps, see Figure 13 but not shown in the figure below.\n",
        "\n",
        "Below we just show the results of the original experimetnal cultivation, compared with results from three and five steps.\n",
        "It is possible to do the optimization in Python with the FMU, but we save that for a future notebook."
      ],
      "metadata": {
        "id": "05aIcbn2JxUb"
      }
    },
    {
      "cell_type": "code",
      "source": [
        "# Culture parameters taken from Table 5 identified parameters for cultures 1,2,and 3\n",
        "\n",
        "# Data chosen\n",
        "V0=0.35\n",
        "init(V_0=V0, VXv_0=V0*0.20, VXd_0=V0*0.0)\n",
        "init(VG_0=V0*18.0, VGn_0=V0*2.4, VL_0=V0*0, VN_0=V0*0)\n",
        "\n",
        "# Feeding n=1 - experimental and lower feed rate\n",
        "par(G_in=15, Gn_in=4.0)\n",
        "par(t0=0, F0=0, t1=49, F1=0.00417)\n",
        "par(t2=1002, t3=1003, t4=1004, t5=1005)\n",
        "\n",
        "# Simulation\n",
        "newplot(title='Figure 12 - Fedbatch with optimal step-wise feed') \n",
        "simu(125)\n",
        "\n",
        "# Feeding n=1\n",
        "par(G_in=15, Gn_in=4.0)\n",
        "par(t0=0, F0=0, t1=52, F1=0.00625)\n",
        "par(t2=1002, t3=1003, t4=1004, t5=1005, t6=1006)\n",
        "\n",
        "# Simulation\n",
        "simu(125)\n",
        "\n",
        "# Feeding n=3\n",
        "par(G_in=15, Gn_in=4.0)\n",
        "par(t0=0, F0=0, t1=52, F1=0.002, t2=74, F2=0.0045, t3=98.0, F3=0.010) \n",
        "par(t4=99.0, F4=0.010, t5=106, F5=0.010, t6=150, F6=0.010)\n",
        "\n",
        "# Simulation\n",
        "simu(125)\n",
        "\n",
        "# Feeding n=5\n",
        "par(G_in=15, Gn_in=4.0)\n",
        "par(t0=0, F0=0, t1=52, F1=0.0012, t2=64, F2=0.0020, t3=78.0, F3=0.0040) \n",
        "par(t4=92.0, F4=0.0080, t5=106, F5=0.012, t6=150, F6=0.012)\n",
        "\n",
        "# Simulation\n",
        "simu(125)\n",
        "\n",
        "# Reset feeding parameters since the table need time in strict increasing value\n",
        "par(t3=1004, t4=1005, t5=1005, t6=1006)"
      ],
      "metadata": {
        "id": "JDD59RgUKA9g"
      },
      "execution_count": null,
      "outputs": []
    },
    {
      "cell_type": "markdown",
      "source": [
        "**Comment:** We see that that already the better tuned constant feed rate (dahsed) compared to the experimental (solid) gives higher final cell concnetration. \n",
        "\n",
        "Breaking up the constant feed rate in three (dotted) and five (dash-dotted) steps with a more gradual increase of the feed rate gives even higher final cell concentration. The difference between n=3 and n=5 is small. The change to continuous exponential feed is even smaller and not shown here.\n",
        "\n",
        "The results shown here are similar to what is presented in Table 7 in [1] but our simulation are slightly longer and here are small differences in the final cel concentration too. The qualitative result is the same though. The difference we see to the result in the original paper is most likely due to the fact that we here use the full model with 17 parameters while in the paper they have reduced the model to 15 parameters for the optimization work. "
      ],
      "metadata": {
        "id": "xYXCy9o-KIU1"
      }
    },
    {
      "cell_type": "markdown",
      "source": [
        "## 5 Simulation of different feed profiles to increase recombinant protein production\n",
        "\n",
        "In this section we take a closer look at recombinant protein production. The original model is extended with the empirical model for specific protein production, see chapter 5 in [4]\n",
        "\n",
        "$$\n",
        "q_P = \\alpha \\cdot \\mu + \\beta\n",
        "$$\n",
        "\n",
        "Here we choose a negative value of growth-associated protein production production $\\alpha$ while keeping the non-growth associated $\\beta$ positive. The culture produced recombinant protein in the form of monoclonal antibodies for a specific IgG1 molecule,see section 2 in [1]. However, no experimental results were given. The only information we have is that feed rate was kept constant at a low level during fedbatch production and this choice indicates that the the growth-associated protein production is negative. The consequence of this observation for the feed profile we take a look at there by simulation."
      ],
      "metadata": {
        "id": "EDBp6v1EKP6x"
      }
    },
    {
      "cell_type": "code",
      "source": [
        "# Slide 3\n",
        "newplot('CHO fedbatch cultivation - protein expression', plotType='Textbook_3')\n",
        "\n",
        "# Data from Table 1 and 2 for experiment 3\n",
        "V_0=0.35\n",
        "init(V_0=V_0, VXv_0=V_0*0.29, VXd_0=V_0*0.010)\n",
        "init(VG_0=V_0*17.17, VGn_0=V_0*3.02, VL_0=V_0*1.12, VN_0=V_0*0.29)\n",
        "\n",
        "# Feeding\n",
        "Feed=0.1/24\n",
        "par(G_in=15, Gn_in=9.3)\n",
        "par(t0=0, F0=0, t1=35, F1=Feed, t2=100, F2=Feed, t3=300, F3=Feed)\n",
        "\n",
        "# Culture parameters\n",
        "par(alpha=-1.0, beta=0.01)\n",
        "\n",
        "# Simulation\n",
        "simu(200)\n",
        "par(t2=100, F2=0.7*Feed, t3=300, F3=0.7*Feed); simu(200)\n",
        "par(F2=Feed, F3=Feed)"
      ],
      "metadata": {
        "id": "Az_GoYonKV2O"
      },
      "execution_count": null,
      "outputs": []
    },
    {
      "cell_type": "markdown",
      "source": [
        "**Comment:** The simulation results show that actually a decease in the feed rate can lead to an increase in recombinant protein produced, although the cell concentration is a bit lower. This is a result due to the fact that growth-associated protein production here is set to a negative value. The main point is that the model can actually capture this phenomena. "
      ],
      "metadata": {
        "id": "i35mjf0lKglp"
      }
    },
    {
      "cell_type": "markdown",
      "source": [
        "## 6 Summary\n",
        "\n",
        "In short we have done the following:\n",
        "\n",
        "* The model was checked by comparing the simulation results with one of the published diagrams [1].\n",
        "\n",
        "* The common startup-procedure with 3 days batch cultivation can be questioned. We found that by shorten it to 2 days, and giving smaller feed rate day 3, byproduct formation can be kept lower at the prize of just a bit lower cell concentration. Similar idea was shown in section 2.1 in [3].\n",
        "\n",
        "* In the original paper the experimental feeding strategy was to keep the substrate feed at a constant lower level. The authors made a point of that the optimal feeding strategy should be exponential for maximal cell production. This is an insight derived from the bottle-neck model and they showed that through simulation optimization [1]. However, there was no experimental support to confirm the results. The optimal cell growth feedprofile simulation was just reproduced here.\n",
        "\n",
        "* To optimize recombinant protein production we must include production in the model. Here we do that with the empirical model that distinguish between growth-associated and non-growth-associated protein production, see chapter 5 in [4]. For a class of CHO-processes the recombinant protein productivity is acutally negatively affected by cell growth. Simulation of the original model extended with such a protein production model shows that keeping the substrate feed rate constant as the cell culture grows, giving less and less feed per cell, actually can give higher protein production than an increaeing feed rate. Simulation confirms this idea. The results gives some possible background to why the constant feed rate was used experimetnally in the original paper [1].\n"
      ],
      "metadata": {
        "id": "LAll0XdHRt6d"
      }
    },
    {
      "cell_type": "markdown",
      "source": [
        "## 7 References\n",
        "\n",
        "[1] Amribt, Z., Niu, H. and Bogaerts P.: \"Macroscopic modelling of overflow metabolism and model based optimization of hybridoma cell fed-batch cultures.\", Biochem. Eng. Journal, 2013.\n",
        "\n",
        "[2] Niu,H., Amribt, Z., Fickers, P., Tan, W. and Bogaerts P.: \"Metabolic pathway analysis and reduction for mammalian cell cultures - towards macroscopic modelling\", Chem. Eng. Science, 2013.\n",
        "\n",
        "[3] Axelsson, J. P.: \"Simplified model of CHO-cultivation in Bioproces Library for Modelica - some experience\", conference paper 22nd NPCW Lyngby, Denmark, August 22-23, 2019.\n",
        "\n",
        "[4] Hu, W-S: \"Cell culture bioprocess engineering\", 2nd edition, CRC Press, 2020."
      ],
      "metadata": {
        "id": "pmOKR1hSRjeu"
      }
    },
    {
      "cell_type": "markdown",
      "source": [
        "## Appendix"
      ],
      "metadata": {
        "id": "5XsXzuE7QT4S"
      }
    },
    {
      "cell_type": "code",
      "source": [
        "# List of components in the process setup and also a couple of other things like liquidphase and gasphase etc\n",
        "describe('parts')"
      ],
      "metadata": {
        "id": "UIfWCS7_QZpy"
      },
      "execution_count": null,
      "outputs": []
    },
    {
      "cell_type": "code",
      "source": [
        "describe('MSL')"
      ],
      "metadata": {
        "id": "Ze_Kl3qLQhHX"
      },
      "execution_count": null,
      "outputs": []
    },
    {
      "cell_type": "code",
      "source": [
        "system_info()"
      ],
      "metadata": {
        "id": "fr8YZScu7nNy"
      },
      "execution_count": null,
      "outputs": []
    },
    {
      "cell_type": "code",
      "source": [],
      "metadata": {
        "id": "FHx0NsS47ppj"
      },
      "execution_count": null,
      "outputs": []
    }
  ]
}